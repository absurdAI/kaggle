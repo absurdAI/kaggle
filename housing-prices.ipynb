{
 "cells": [
  {
   "cell_type": "code",
   "execution_count": 1,
   "id": "6fcab83c",
   "metadata": {
    "_cell_guid": "b1076dfc-b9ad-4769-8c92-a6c4dae69d19",
    "_uuid": "8f2839f25d086af736a60e9eeb907d3b93b6e0e5",
    "execution": {
     "iopub.execute_input": "2024-08-25T14:38:19.294786Z",
     "iopub.status.busy": "2024-08-25T14:38:19.294226Z",
     "iopub.status.idle": "2024-08-25T14:38:19.728648Z",
     "shell.execute_reply": "2024-08-25T14:38:19.727046Z"
    },
    "papermill": {
     "duration": 0.448051,
     "end_time": "2024-08-25T14:38:19.731650",
     "exception": false,
     "start_time": "2024-08-25T14:38:19.283599",
     "status": "completed"
    },
    "tags": []
   },
   "outputs": [
    {
     "name": "stdout",
     "output_type": "stream",
     "text": [
      "/kaggle/input/house-prices-advanced-regression-techniques/sample_submission.csv\n",
      "/kaggle/input/house-prices-advanced-regression-techniques/data_description.txt\n",
      "/kaggle/input/house-prices-advanced-regression-techniques/train.csv\n",
      "/kaggle/input/house-prices-advanced-regression-techniques/test.csv\n"
     ]
    }
   ],
   "source": [
    "# This Python 3 environment comes with many helpful analytics libraries installed\n",
    "# It is defined by the kaggle/python Docker image: https://github.com/kaggle/docker-python\n",
    "# For example, here's several helpful packages to load\n",
    "\n",
    "import numpy as np # linear algebra\n",
    "import pandas as pd # data processing, CSV file I/O (e.g. pd.read_csv)\n",
    "\n",
    "# Input data files are available in the read-only \"../input/\" directory\n",
    "# For example, running this (by clicking run or pressing Shift+Enter) will list all files under the input directory\n",
    "\n",
    "import os\n",
    "for dirname, _, filenames in os.walk('/kaggle/input'):\n",
    "    for filename in filenames:\n",
    "        print(os.path.join(dirname, filename))\n",
    "\n",
    "# You can write up to 20GB to the current directory (/kaggle/working/) that gets preserved as output when you create a version using \"Save & Run All\" \n",
    "# You can also write temporary files to /kaggle/temp/, but they won't be saved outside of the current session"
   ]
  },
  {
   "cell_type": "code",
   "execution_count": 2,
   "id": "3257105d",
   "metadata": {
    "execution": {
     "iopub.execute_input": "2024-08-25T14:38:19.750400Z",
     "iopub.status.busy": "2024-08-25T14:38:19.749876Z",
     "iopub.status.idle": "2024-08-25T14:38:19.826766Z",
     "shell.execute_reply": "2024-08-25T14:38:19.825077Z"
    },
    "papermill": {
     "duration": 0.088387,
     "end_time": "2024-08-25T14:38:19.829377",
     "exception": false,
     "start_time": "2024-08-25T14:38:19.740990",
     "status": "completed"
    },
    "tags": []
   },
   "outputs": [
    {
     "name": "stdout",
     "output_type": "stream",
     "text": [
      "Original train dataset shape: (1460, 81)\n",
      "Original test dataset shape: (1459, 80)\n"
     ]
    }
   ],
   "source": [
    "# Load the datasets\n",
    "train = pd.read_csv('/kaggle/input/house-prices-advanced-regression-techniques/train.csv')\n",
    "test = pd.read_csv('/kaggle/input/house-prices-advanced-regression-techniques/test.csv')\n",
    "\n",
    "# Check the shape of train and test datasets\n",
    "print(\"Original train dataset shape:\", train.shape)\n",
    "print(\"Original test dataset shape:\", test.shape)\n"
   ]
  },
  {
   "cell_type": "code",
   "execution_count": 3,
   "id": "f46ee4e3",
   "metadata": {
    "execution": {
     "iopub.execute_input": "2024-08-25T14:38:19.848225Z",
     "iopub.status.busy": "2024-08-25T14:38:19.847806Z",
     "iopub.status.idle": "2024-08-25T14:38:19.924516Z",
     "shell.execute_reply": "2024-08-25T14:38:19.923383Z"
    },
    "papermill": {
     "duration": 0.088708,
     "end_time": "2024-08-25T14:38:19.927554",
     "exception": false,
     "start_time": "2024-08-25T14:38:19.838846",
     "status": "completed"
    },
    "tags": []
   },
   "outputs": [
    {
     "name": "stdout",
     "output_type": "stream",
     "text": [
      "Train Dataset Head:\n",
      "   Id  MSSubClass MSZoning  LotFrontage  LotArea Street Alley LotShape  \\\n",
      "0   1          60       RL         65.0     8450   Pave   NaN      Reg   \n",
      "1   2          20       RL         80.0     9600   Pave   NaN      Reg   \n",
      "2   3          60       RL         68.0    11250   Pave   NaN      IR1   \n",
      "3   4          70       RL         60.0     9550   Pave   NaN      IR1   \n",
      "4   5          60       RL         84.0    14260   Pave   NaN      IR1   \n",
      "\n",
      "  LandContour Utilities  ... PoolArea PoolQC Fence MiscFeature MiscVal MoSold  \\\n",
      "0         Lvl    AllPub  ...        0    NaN   NaN         NaN       0      2   \n",
      "1         Lvl    AllPub  ...        0    NaN   NaN         NaN       0      5   \n",
      "2         Lvl    AllPub  ...        0    NaN   NaN         NaN       0      9   \n",
      "3         Lvl    AllPub  ...        0    NaN   NaN         NaN       0      2   \n",
      "4         Lvl    AllPub  ...        0    NaN   NaN         NaN       0     12   \n",
      "\n",
      "  YrSold  SaleType  SaleCondition  SalePrice  \n",
      "0   2008        WD         Normal     208500  \n",
      "1   2007        WD         Normal     181500  \n",
      "2   2008        WD         Normal     223500  \n",
      "3   2006        WD        Abnorml     140000  \n",
      "4   2008        WD         Normal     250000  \n",
      "\n",
      "[5 rows x 81 columns]\n",
      "\n",
      "Test Dataset Head:\n",
      "     Id  MSSubClass MSZoning  LotFrontage  LotArea Street Alley LotShape  \\\n",
      "0  1461          20       RH         80.0    11622   Pave   NaN      Reg   \n",
      "1  1462          20       RL         81.0    14267   Pave   NaN      IR1   \n",
      "2  1463          60       RL         74.0    13830   Pave   NaN      IR1   \n",
      "3  1464          60       RL         78.0     9978   Pave   NaN      IR1   \n",
      "4  1465         120       RL         43.0     5005   Pave   NaN      IR1   \n",
      "\n",
      "  LandContour Utilities  ... ScreenPorch PoolArea PoolQC  Fence MiscFeature  \\\n",
      "0         Lvl    AllPub  ...         120        0    NaN  MnPrv         NaN   \n",
      "1         Lvl    AllPub  ...           0        0    NaN    NaN        Gar2   \n",
      "2         Lvl    AllPub  ...           0        0    NaN  MnPrv         NaN   \n",
      "3         Lvl    AllPub  ...           0        0    NaN    NaN         NaN   \n",
      "4         HLS    AllPub  ...         144        0    NaN    NaN         NaN   \n",
      "\n",
      "  MiscVal MoSold  YrSold  SaleType  SaleCondition  \n",
      "0       0      6    2010        WD         Normal  \n",
      "1   12500      6    2010        WD         Normal  \n",
      "2       0      3    2010        WD         Normal  \n",
      "3       0      6    2010        WD         Normal  \n",
      "4       0      1    2010        WD         Normal  \n",
      "\n",
      "[5 rows x 80 columns]\n"
     ]
    }
   ],
   "source": [
    "# Load the train and test datasets\n",
    "train = pd.read_csv('/kaggle/input/house-prices-advanced-regression-techniques/train.csv')\n",
    "test = pd.read_csv('/kaggle/input/house-prices-advanced-regression-techniques/test.csv')\n",
    "\n",
    "# Display the first few rows of each dataset to confirm successful loading\n",
    "print(\"Train Dataset Head:\")\n",
    "print(train.head())\n",
    "print(\"\\nTest Dataset Head:\")\n",
    "print(test.head())\n"
   ]
  },
  {
   "cell_type": "code",
   "execution_count": 4,
   "id": "2394d806",
   "metadata": {
    "execution": {
     "iopub.execute_input": "2024-08-25T14:38:19.944535Z",
     "iopub.status.busy": "2024-08-25T14:38:19.944114Z",
     "iopub.status.idle": "2024-08-25T14:38:19.968314Z",
     "shell.execute_reply": "2024-08-25T14:38:19.967107Z"
    },
    "papermill": {
     "duration": 0.035682,
     "end_time": "2024-08-25T14:38:19.970958",
     "exception": false,
     "start_time": "2024-08-25T14:38:19.935276",
     "status": "completed"
    },
    "tags": []
   },
   "outputs": [
    {
     "name": "stdout",
     "output_type": "stream",
     "text": [
      "Combined dataset shape: (2919, 81)\n",
      "Combined dataset head:\n",
      "   Id  MSSubClass MSZoning  LotFrontage  LotArea Street Alley LotShape  \\\n",
      "0   1          60       RL         65.0     8450   Pave   NaN      Reg   \n",
      "1   2          20       RL         80.0     9600   Pave   NaN      Reg   \n",
      "2   3          60       RL         68.0    11250   Pave   NaN      IR1   \n",
      "3   4          70       RL         60.0     9550   Pave   NaN      IR1   \n",
      "4   5          60       RL         84.0    14260   Pave   NaN      IR1   \n",
      "\n",
      "  LandContour Utilities  ... PoolArea PoolQC Fence MiscFeature MiscVal MoSold  \\\n",
      "0         Lvl    AllPub  ...        0    NaN   NaN         NaN       0      2   \n",
      "1         Lvl    AllPub  ...        0    NaN   NaN         NaN       0      5   \n",
      "2         Lvl    AllPub  ...        0    NaN   NaN         NaN       0      9   \n",
      "3         Lvl    AllPub  ...        0    NaN   NaN         NaN       0      2   \n",
      "4         Lvl    AllPub  ...        0    NaN   NaN         NaN       0     12   \n",
      "\n",
      "  YrSold  SaleType  SaleCondition  Dataset  \n",
      "0   2008        WD         Normal    train  \n",
      "1   2007        WD         Normal    train  \n",
      "2   2008        WD         Normal    train  \n",
      "3   2006        WD        Abnorml    train  \n",
      "4   2008        WD         Normal    train  \n",
      "\n",
      "[5 rows x 81 columns]\n"
     ]
    }
   ],
   "source": [
    "# Add a marker to differentiate between training and test datasets\n",
    "train['Dataset'] = 'train'\n",
    "test['Dataset'] = 'test'\n",
    "\n",
    "# Save the target variable and remove it from the training set\n",
    "train_labels = train['SalePrice']\n",
    "train.drop(columns=['SalePrice'], inplace=True)\n",
    "\n",
    "# Combine the datasets\n",
    "combined = pd.concat([train, test], axis=0, ignore_index=True)\n",
    "\n",
    "print(\"Combined dataset shape:\", combined.shape)\n",
    "print(\"Combined dataset head:\")\n",
    "print(combined.head())\n"
   ]
  },
  {
   "cell_type": "markdown",
   "id": "0cef6872",
   "metadata": {
    "papermill": {
     "duration": 0.007229,
     "end_time": "2024-08-25T14:38:19.986041",
     "exception": false,
     "start_time": "2024-08-25T14:38:19.978812",
     "status": "completed"
    },
    "tags": []
   },
   "source": [
    "# dropping top 10 missing features"
   ]
  },
  {
   "cell_type": "code",
   "execution_count": 5,
   "id": "ab9038f3",
   "metadata": {
    "execution": {
     "iopub.execute_input": "2024-08-25T14:38:20.003410Z",
     "iopub.status.busy": "2024-08-25T14:38:20.002971Z",
     "iopub.status.idle": "2024-08-25T14:38:20.026212Z",
     "shell.execute_reply": "2024-08-25T14:38:20.025070Z"
    },
    "papermill": {
     "duration": 0.035342,
     "end_time": "2024-08-25T14:38:20.028911",
     "exception": false,
     "start_time": "2024-08-25T14:38:19.993569",
     "status": "completed"
    },
    "tags": []
   },
   "outputs": [
    {
     "name": "stdout",
     "output_type": "stream",
     "text": [
      "Shape of combined dataset after dropping features: (2919, 71)\n",
      "Remaining missing values in combined dataset:\n",
      "GarageCond      159\n",
      "GarageType      157\n",
      "BsmtExposure     82\n",
      "BsmtCond         82\n",
      "BsmtQual         81\n",
      "BsmtFinType2     80\n",
      "BsmtFinType1     79\n",
      "MasVnrArea       23\n",
      "MSZoning          4\n",
      "BsmtFullBath      2\n",
      "dtype: int64\n"
     ]
    }
   ],
   "source": [
    "# List of features to remove due to high missing values\n",
    "features_to_remove = ['PoolQC', 'MiscFeature', 'Alley', 'Fence', 'MasVnrType', \n",
    "                      'FireplaceQu', 'LotFrontage', 'GarageYrBlt', 'GarageFinish', 'GarageQual']\n",
    "\n",
    "# Drop these features from the combined dataset\n",
    "combined = combined.drop(columns=features_to_remove)\n",
    "\n",
    "# Check the shape of the dataset after dropping the features\n",
    "print(\"Shape of combined dataset after dropping features:\", combined.shape)\n",
    "\n",
    "# Check if there are any remaining missing values\n",
    "print(\"Remaining missing values in combined dataset:\")\n",
    "print(combined.isnull().sum().sort_values(ascending=False).head(10))\n"
   ]
  },
  {
   "cell_type": "markdown",
   "id": "d233b9c0",
   "metadata": {
    "papermill": {
     "duration": 0.007467,
     "end_time": "2024-08-25T14:38:20.044818",
     "exception": false,
     "start_time": "2024-08-25T14:38:20.037351",
     "status": "completed"
    },
    "tags": []
   },
   "source": [
    "# imputing remaining missing features"
   ]
  },
  {
   "cell_type": "code",
   "execution_count": 6,
   "id": "7a3723e6",
   "metadata": {
    "execution": {
     "iopub.execute_input": "2024-08-25T14:38:20.063287Z",
     "iopub.status.busy": "2024-08-25T14:38:20.062271Z",
     "iopub.status.idle": "2024-08-25T14:38:21.875247Z",
     "shell.execute_reply": "2024-08-25T14:38:21.874059Z"
    },
    "papermill": {
     "duration": 1.825435,
     "end_time": "2024-08-25T14:38:21.877907",
     "exception": false,
     "start_time": "2024-08-25T14:38:20.052472",
     "status": "completed"
    },
    "tags": []
   },
   "outputs": [
    {
     "name": "stdout",
     "output_type": "stream",
     "text": [
      "Remaining missing values in combined dataset after imputation:\n",
      "Id              0\n",
      "BsmtHalfBath    0\n",
      "TotRmsAbvGrd    0\n",
      "KitchenQual     0\n",
      "KitchenAbvGr    0\n",
      "BedroomAbvGr    0\n",
      "HalfBath        0\n",
      "FullBath        0\n",
      "BsmtFullBath    0\n",
      "Fireplaces      0\n",
      "dtype: int64\n"
     ]
    }
   ],
   "source": [
    "from sklearn.impute import SimpleImputer\n",
    "\n",
    "# Separate the features into numerical and categorical\n",
    "numeric_features = combined.select_dtypes(include=[np.number]).columns\n",
    "categorical_features = combined.select_dtypes(include=[object]).columns\n",
    "\n",
    "# Impute missing values in numerical features with the median\n",
    "numeric_imputer = SimpleImputer(strategy='median')\n",
    "combined[numeric_features] = numeric_imputer.fit_transform(combined[numeric_features])\n",
    "\n",
    "# Impute missing values in categorical features with the most frequent value\n",
    "categorical_imputer = SimpleImputer(strategy='most_frequent')\n",
    "combined[categorical_features] = categorical_imputer.fit_transform(combined[categorical_features])\n",
    "\n",
    "# Check if there are any remaining missing values\n",
    "print(\"Remaining missing values in combined dataset after imputation:\")\n",
    "print(combined.isnull().sum().sort_values(ascending=False).head(10))\n"
   ]
  },
  {
   "cell_type": "markdown",
   "id": "a9b6ca2a",
   "metadata": {
    "papermill": {
     "duration": 0.007566,
     "end_time": "2024-08-25T14:38:21.893224",
     "exception": false,
     "start_time": "2024-08-25T14:38:21.885658",
     "status": "completed"
    },
    "tags": []
   },
   "source": [
    "# adding house age and time since last renovation"
   ]
  },
  {
   "cell_type": "code",
   "execution_count": 7,
   "id": "826f5780",
   "metadata": {
    "execution": {
     "iopub.execute_input": "2024-08-25T14:38:21.911021Z",
     "iopub.status.busy": "2024-08-25T14:38:21.910441Z",
     "iopub.status.idle": "2024-08-25T14:38:21.923747Z",
     "shell.execute_reply": "2024-08-25T14:38:21.922415Z"
    },
    "papermill": {
     "duration": 0.024769,
     "end_time": "2024-08-25T14:38:21.926131",
     "exception": false,
     "start_time": "2024-08-25T14:38:21.901362",
     "status": "completed"
    },
    "tags": []
   },
   "outputs": [
    {
     "name": "stdout",
     "output_type": "stream",
     "text": [
      "New features 'HouseAge' and 'LastRenovated' added:\n",
      "   HouseAge  LastRenovated\n",
      "0       5.0            5.0\n",
      "1      31.0           31.0\n",
      "2       7.0            6.0\n",
      "3      91.0           36.0\n",
      "4       8.0            8.0\n"
     ]
    }
   ],
   "source": [
    "# Create the 'HouseAge' feature\n",
    "combined['HouseAge'] = combined['YrSold'] - combined['YearBuilt']\n",
    "\n",
    "# Create the 'LastRenovated' feature\n",
    "combined['LastRenovated'] = combined['YrSold'] - combined['YearRemodAdd']\n",
    "\n",
    "# A quick look at the new features\n",
    "print(\"New features 'HouseAge' and 'LastRenovated' added:\")\n",
    "print(combined[['HouseAge', 'LastRenovated']].head())\n"
   ]
  },
  {
   "cell_type": "code",
   "execution_count": 8,
   "id": "e59b5fbc",
   "metadata": {
    "execution": {
     "iopub.execute_input": "2024-08-25T14:38:21.943648Z",
     "iopub.status.busy": "2024-08-25T14:38:21.943159Z",
     "iopub.status.idle": "2024-08-25T14:38:21.953088Z",
     "shell.execute_reply": "2024-08-25T14:38:21.951739Z"
    },
    "papermill": {
     "duration": 0.021307,
     "end_time": "2024-08-25T14:38:21.955361",
     "exception": false,
     "start_time": "2024-08-25T14:38:21.934054",
     "status": "completed"
    },
    "tags": []
   },
   "outputs": [
    {
     "name": "stdout",
     "output_type": "stream",
     "text": [
      "HouseAge         int64\n",
      "LastRenovated    int64\n",
      "dtype: object\n"
     ]
    }
   ],
   "source": [
    "# Convert 'HouseAge' and 'LastRenovated' to integers\n",
    "combined['HouseAge'] = combined['HouseAge'].astype(int)\n",
    "combined['LastRenovated'] = combined['LastRenovated'].astype(int)\n",
    "\n",
    "# Verify the conversion\n",
    "print(combined[['HouseAge', 'LastRenovated']].dtypes)\n"
   ]
  },
  {
   "cell_type": "code",
   "execution_count": 9,
   "id": "d6404250",
   "metadata": {
    "execution": {
     "iopub.execute_input": "2024-08-25T14:38:21.973147Z",
     "iopub.status.busy": "2024-08-25T14:38:21.972725Z",
     "iopub.status.idle": "2024-08-25T14:38:21.999814Z",
     "shell.execute_reply": "2024-08-25T14:38:21.998420Z"
    },
    "papermill": {
     "duration": 0.039336,
     "end_time": "2024-08-25T14:38:22.002524",
     "exception": false,
     "start_time": "2024-08-25T14:38:21.963188",
     "status": "completed"
    },
    "tags": []
   },
   "outputs": [
    {
     "name": "stdout",
     "output_type": "stream",
     "text": [
      "Categorical features to be encoded:\n",
      "['MSZoning', 'Street', 'LotShape', 'LandContour', 'Utilities', 'LotConfig', 'LandSlope', 'Neighborhood', 'Condition1', 'Condition2', 'BldgType', 'HouseStyle', 'RoofStyle', 'RoofMatl', 'Exterior1st', 'Exterior2nd', 'ExterQual', 'ExterCond', 'Foundation', 'BsmtQual', 'BsmtCond', 'BsmtExposure', 'BsmtFinType1', 'BsmtFinType2', 'Heating', 'HeatingQC', 'CentralAir', 'Electrical', 'KitchenQual', 'Functional', 'GarageType', 'GarageCond', 'PavedDrive', 'SaleType', 'SaleCondition', 'Dataset']\n",
      "\n",
      "MSZoning: ['RL' 'RM' 'C (all)' 'FV' 'RH']\n",
      "\n",
      "Street: ['Pave' 'Grvl']\n",
      "\n",
      "LotShape: ['Reg' 'IR1' 'IR2' 'IR3']\n",
      "\n",
      "LandContour: ['Lvl' 'Bnk' 'Low' 'HLS']\n",
      "\n",
      "Utilities: ['AllPub' 'NoSeWa']\n",
      "\n",
      "LotConfig: ['Inside' 'FR2' 'Corner' 'CulDSac' 'FR3']\n",
      "\n",
      "LandSlope: ['Gtl' 'Mod' 'Sev']\n",
      "\n",
      "Neighborhood: ['CollgCr' 'Veenker' 'Crawfor' 'NoRidge' 'Mitchel' 'Somerst' 'NWAmes'\n",
      " 'OldTown' 'BrkSide' 'Sawyer' 'NridgHt' 'NAmes' 'SawyerW' 'IDOTRR'\n",
      " 'MeadowV' 'Edwards' 'Timber' 'Gilbert' 'StoneBr' 'ClearCr' 'NPkVill'\n",
      " 'Blmngtn' 'BrDale' 'SWISU' 'Blueste']\n",
      "\n",
      "Condition1: ['Norm' 'Feedr' 'PosN' 'Artery' 'RRAe' 'RRNn' 'RRAn' 'PosA' 'RRNe']\n",
      "\n",
      "Condition2: ['Norm' 'Artery' 'RRNn' 'Feedr' 'PosN' 'PosA' 'RRAn' 'RRAe']\n",
      "\n",
      "BldgType: ['1Fam' '2fmCon' 'Duplex' 'TwnhsE' 'Twnhs']\n",
      "\n",
      "HouseStyle: ['2Story' '1Story' '1.5Fin' '1.5Unf' 'SFoyer' 'SLvl' '2.5Unf' '2.5Fin']\n",
      "\n",
      "RoofStyle: ['Gable' 'Hip' 'Gambrel' 'Mansard' 'Flat' 'Shed']\n",
      "\n",
      "RoofMatl: ['CompShg' 'WdShngl' 'Metal' 'WdShake' 'Membran' 'Tar&Grv' 'Roll'\n",
      " 'ClyTile']\n",
      "\n",
      "Exterior1st: ['VinylSd' 'MetalSd' 'Wd Sdng' 'HdBoard' 'BrkFace' 'WdShing' 'CemntBd'\n",
      " 'Plywood' 'AsbShng' 'Stucco' 'BrkComm' 'AsphShn' 'Stone' 'ImStucc'\n",
      " 'CBlock']\n",
      "\n",
      "Exterior2nd: ['VinylSd' 'MetalSd' 'Wd Shng' 'HdBoard' 'Plywood' 'Wd Sdng' 'CmentBd'\n",
      " 'BrkFace' 'Stucco' 'AsbShng' 'Brk Cmn' 'ImStucc' 'AsphShn' 'Stone'\n",
      " 'Other' 'CBlock']\n",
      "\n",
      "ExterQual: ['Gd' 'TA' 'Ex' 'Fa']\n",
      "\n",
      "ExterCond: ['TA' 'Gd' 'Fa' 'Po' 'Ex']\n",
      "\n",
      "Foundation: ['PConc' 'CBlock' 'BrkTil' 'Wood' 'Slab' 'Stone']\n",
      "\n",
      "BsmtQual: ['Gd' 'TA' 'Ex' 'Fa']\n",
      "\n",
      "BsmtCond: ['TA' 'Gd' 'Fa' 'Po']\n",
      "\n",
      "BsmtExposure: ['No' 'Gd' 'Mn' 'Av']\n",
      "\n",
      "BsmtFinType1: ['GLQ' 'ALQ' 'Unf' 'Rec' 'BLQ' 'LwQ']\n",
      "\n",
      "BsmtFinType2: ['Unf' 'BLQ' 'ALQ' 'Rec' 'LwQ' 'GLQ']\n",
      "\n",
      "Heating: ['GasA' 'GasW' 'Grav' 'Wall' 'OthW' 'Floor']\n",
      "\n",
      "HeatingQC: ['Ex' 'Gd' 'TA' 'Fa' 'Po']\n",
      "\n",
      "CentralAir: ['Y' 'N']\n",
      "\n",
      "Electrical: ['SBrkr' 'FuseF' 'FuseA' 'FuseP' 'Mix']\n",
      "\n",
      "KitchenQual: ['Gd' 'TA' 'Ex' 'Fa']\n",
      "\n",
      "Functional: ['Typ' 'Min1' 'Maj1' 'Min2' 'Mod' 'Maj2' 'Sev']\n",
      "\n",
      "GarageType: ['Attchd' 'Detchd' 'BuiltIn' 'CarPort' 'Basment' '2Types']\n",
      "\n",
      "GarageCond: ['TA' 'Fa' 'Gd' 'Po' 'Ex']\n",
      "\n",
      "PavedDrive: ['Y' 'N' 'P']\n",
      "\n",
      "SaleType: ['WD' 'New' 'COD' 'ConLD' 'ConLI' 'CWD' 'ConLw' 'Con' 'Oth']\n",
      "\n",
      "SaleCondition: ['Normal' 'Abnorml' 'Partial' 'AdjLand' 'Alloca' 'Family']\n",
      "\n",
      "Dataset: ['train' 'test']\n"
     ]
    }
   ],
   "source": [
    "# Identify categorical features\n",
    "categorical_features = combined.select_dtypes(include=[object]).columns.tolist()\n",
    "\n",
    "# Display the categorical features\n",
    "print(\"Categorical features to be encoded:\")\n",
    "print(categorical_features)\n",
    "\n",
    "# Display unique values in categorical features to determine the appropriate encoding method\n",
    "for feature in categorical_features:\n",
    "    print(f\"\\n{feature}: {combined[feature].unique()}\")\n"
   ]
  },
  {
   "cell_type": "markdown",
   "id": "1a623593",
   "metadata": {
    "papermill": {
     "duration": 0.007756,
     "end_time": "2024-08-25T14:38:22.018374",
     "exception": false,
     "start_time": "2024-08-25T14:38:22.010618",
     "status": "completed"
    },
    "tags": []
   },
   "source": [
    "# converting data"
   ]
  },
  {
   "cell_type": "code",
   "execution_count": 10,
   "id": "9a42b851",
   "metadata": {
    "execution": {
     "iopub.execute_input": "2024-08-25T14:38:22.036345Z",
     "iopub.status.busy": "2024-08-25T14:38:22.035900Z",
     "iopub.status.idle": "2024-08-25T14:38:22.054551Z",
     "shell.execute_reply": "2024-08-25T14:38:22.052992Z"
    },
    "papermill": {
     "duration": 0.030706,
     "end_time": "2024-08-25T14:38:22.057193",
     "exception": false,
     "start_time": "2024-08-25T14:38:22.026487",
     "status": "completed"
    },
    "tags": []
   },
   "outputs": [
    {
     "name": "stdout",
     "output_type": "stream",
     "text": [
      "Ordinal features label encoded.\n"
     ]
    }
   ],
   "source": [
    "from sklearn.preprocessing import LabelEncoder\n",
    "\n",
    "# Define a dictionary for manual label encoding\n",
    "ordinal_mapping = {\n",
    "    'ExterQual': {'Po': 1, 'Fa': 2, 'TA': 3, 'Gd': 4, 'Ex': 5},\n",
    "    'ExterCond': {'Po': 1, 'Fa': 2, 'TA': 3, 'Gd': 4, 'Ex': 5},\n",
    "    'BsmtQual': {'Po': 1, 'Fa': 2, 'TA': 3, 'Gd': 4, 'Ex': 5},\n",
    "    'BsmtCond': {'Po': 1, 'Fa': 2, 'TA': 3, 'Gd': 4, 'Ex': 5},\n",
    "    'HeatingQC': {'Po': 1, 'Fa': 2, 'TA': 3, 'Gd': 4, 'Ex': 5},\n",
    "    'KitchenQual': {'Po': 1, 'Fa': 2, 'TA': 3, 'Gd': 4, 'Ex': 5},\n",
    "    'GarageCond': {'Po': 1, 'Fa': 2, 'TA': 3, 'Gd': 4, 'Ex': 5},\n",
    "    'PavedDrive': {'N': 0, 'P': 1, 'Y': 2},\n",
    "}\n",
    "\n",
    "# Apply label encoding based on the ordinal mapping\n",
    "for feature, mapping in ordinal_mapping.items():\n",
    "    combined[feature] = combined[feature].map(mapping)\n",
    "\n",
    "print(\"Ordinal features label encoded.\")\n"
   ]
  },
  {
   "cell_type": "code",
   "execution_count": 11,
   "id": "aadcb3c9",
   "metadata": {
    "execution": {
     "iopub.execute_input": "2024-08-25T14:38:22.075376Z",
     "iopub.status.busy": "2024-08-25T14:38:22.074942Z",
     "iopub.status.idle": "2024-08-25T14:38:22.119644Z",
     "shell.execute_reply": "2024-08-25T14:38:22.118385Z"
    },
    "papermill": {
     "duration": 0.056762,
     "end_time": "2024-08-25T14:38:22.122105",
     "exception": false,
     "start_time": "2024-08-25T14:38:22.065343",
     "status": "completed"
    },
    "tags": []
   },
   "outputs": [
    {
     "name": "stdout",
     "output_type": "stream",
     "text": [
      "Nominal features one-hot encoded.\n",
      "Shape of combined dataset after one-hot encoding: (2919, 207)\n"
     ]
    }
   ],
   "source": [
    "# List of features to one-hot encode (excluding the already label-encoded ones)\n",
    "one_hot_features = list(set(categorical_features) - set(ordinal_mapping.keys()) - {'Dataset'})\n",
    "\n",
    "# Apply one-hot encoding\n",
    "combined = pd.get_dummies(combined, columns=one_hot_features, drop_first=True)\n",
    "\n",
    "print(\"Nominal features one-hot encoded.\")\n",
    "print(\"Shape of combined dataset after one-hot encoding:\", combined.shape)\n"
   ]
  },
  {
   "cell_type": "markdown",
   "id": "b8d1fbf9",
   "metadata": {
    "papermill": {
     "duration": 0.00779,
     "end_time": "2024-08-25T14:38:22.137944",
     "exception": false,
     "start_time": "2024-08-25T14:38:22.130154",
     "status": "completed"
    },
    "tags": []
   },
   "source": [
    "# splitting data back to train and test sets"
   ]
  },
  {
   "cell_type": "code",
   "execution_count": 12,
   "id": "22f97bfe",
   "metadata": {
    "execution": {
     "iopub.execute_input": "2024-08-25T14:38:22.155915Z",
     "iopub.status.busy": "2024-08-25T14:38:22.155485Z",
     "iopub.status.idle": "2024-08-25T14:38:22.172616Z",
     "shell.execute_reply": "2024-08-25T14:38:22.171109Z"
    },
    "papermill": {
     "duration": 0.029057,
     "end_time": "2024-08-25T14:38:22.175077",
     "exception": false,
     "start_time": "2024-08-25T14:38:22.146020",
     "status": "completed"
    },
    "tags": []
   },
   "outputs": [
    {
     "name": "stdout",
     "output_type": "stream",
     "text": [
      "Final processed train shape: (1460, 207)\n",
      "Final processed test shape: (1459, 206)\n"
     ]
    }
   ],
   "source": [
    "# Split the data back into the original training and test sets\n",
    "processed_train = combined[combined['Dataset'] == 'train'].drop(columns=['Dataset'])\n",
    "processed_test = combined[combined['Dataset'] == 'test'].drop(columns=['Dataset'])\n",
    "\n",
    "# Reattach the target variable to the training set\n",
    "processed_train['SalePrice'] = train_labels.values\n",
    "\n",
    "print(\"Final processed train shape:\", processed_train.shape)\n",
    "print(\"Final processed test shape:\", processed_test.shape)\n"
   ]
  },
  {
   "cell_type": "code",
   "execution_count": 13,
   "id": "3ddce2cc",
   "metadata": {
    "execution": {
     "iopub.execute_input": "2024-08-25T14:38:22.193194Z",
     "iopub.status.busy": "2024-08-25T14:38:22.192799Z",
     "iopub.status.idle": "2024-08-25T14:38:22.199591Z",
     "shell.execute_reply": "2024-08-25T14:38:22.198249Z"
    },
    "papermill": {
     "duration": 0.018905,
     "end_time": "2024-08-25T14:38:22.202120",
     "exception": false,
     "start_time": "2024-08-25T14:38:22.183215",
     "status": "completed"
    },
    "tags": []
   },
   "outputs": [
    {
     "name": "stdout",
     "output_type": "stream",
     "text": [
      "Columns in train but not in test: {'SalePrice'}\n",
      "Columns in test but not in train: set()\n"
     ]
    }
   ],
   "source": [
    "# Find columns that are in train but not in test\n",
    "train_not_in_test = set(processed_train.columns) - set(processed_test.columns)\n",
    "\n",
    "# Find columns that are in test but not in train\n",
    "test_not_in_train = set(processed_test.columns) - set(processed_train.columns)\n",
    "\n",
    "# Print the results\n",
    "print(\"Columns in train but not in test:\", train_not_in_test)\n",
    "print(\"Columns in test but not in train:\", test_not_in_train)\n"
   ]
  },
  {
   "cell_type": "markdown",
   "id": "cef6ebb6",
   "metadata": {
    "papermill": {
     "duration": 0.00782,
     "end_time": "2024-08-25T14:38:22.218166",
     "exception": false,
     "start_time": "2024-08-25T14:38:22.210346",
     "status": "completed"
    },
    "tags": []
   },
   "source": [
    "# using xgboost model"
   ]
  },
  {
   "cell_type": "code",
   "execution_count": 14,
   "id": "d9a4a341",
   "metadata": {
    "execution": {
     "iopub.execute_input": "2024-08-25T14:38:22.237043Z",
     "iopub.status.busy": "2024-08-25T14:38:22.236615Z",
     "iopub.status.idle": "2024-08-25T14:38:22.425593Z",
     "shell.execute_reply": "2024-08-25T14:38:22.424259Z"
    },
    "papermill": {
     "duration": 0.201127,
     "end_time": "2024-08-25T14:38:22.428309",
     "exception": false,
     "start_time": "2024-08-25T14:38:22.227182",
     "status": "completed"
    },
    "tags": []
   },
   "outputs": [],
   "source": [
    "import xgboost as xgb\n",
    "from sklearn.model_selection import train_test_split\n",
    "from sklearn.metrics import mean_squared_error\n"
   ]
  },
  {
   "cell_type": "code",
   "execution_count": 15,
   "id": "5af5cfe5",
   "metadata": {
    "execution": {
     "iopub.execute_input": "2024-08-25T14:38:22.446817Z",
     "iopub.status.busy": "2024-08-25T14:38:22.446242Z",
     "iopub.status.idle": "2024-08-25T14:38:22.602008Z",
     "shell.execute_reply": "2024-08-25T14:38:22.600447Z"
    },
    "papermill": {
     "duration": 0.168043,
     "end_time": "2024-08-25T14:38:22.604696",
     "exception": false,
     "start_time": "2024-08-25T14:38:22.436653",
     "status": "completed"
    },
    "tags": []
   },
   "outputs": [],
   "source": [
    "# Prepare features and target\n",
    "X = processed_train.drop(columns=['SalePrice'])\n",
    "y = processed_train['SalePrice']\n",
    "\n",
    "# Split the data into training and validation sets\n",
    "X_train, X_val, y_train, y_val = train_test_split(X, y, test_size=0.2, random_state=42)\n",
    "\n",
    "# Convert data into DMatrix format (optimized for XGBoost)\n",
    "dtrain = xgb.DMatrix(X_train, label=y_train)\n",
    "dval = xgb.DMatrix(X_val, label=y_val)\n",
    "dtest = xgb.DMatrix(processed_test)  # Test set\n"
   ]
  },
  {
   "cell_type": "code",
   "execution_count": 16,
   "id": "9afced18",
   "metadata": {
    "execution": {
     "iopub.execute_input": "2024-08-25T14:38:22.625417Z",
     "iopub.status.busy": "2024-08-25T14:38:22.624980Z",
     "iopub.status.idle": "2024-08-25T14:38:22.631267Z",
     "shell.execute_reply": "2024-08-25T14:38:22.630033Z"
    },
    "papermill": {
     "duration": 0.019375,
     "end_time": "2024-08-25T14:38:22.633642",
     "exception": false,
     "start_time": "2024-08-25T14:38:22.614267",
     "status": "completed"
    },
    "tags": []
   },
   "outputs": [],
   "source": [
    "# Define the parameters for XGBoost\n",
    "params = {\n",
    "    'objective': 'reg:squarederror',  # Regression task\n",
    "    'max_depth': 6,                   # Maximum depth of a tree\n",
    "    'learning_rate': 0.1,             # Step size shrinkage\n",
    "    'n_estimators': 1000,             # Number of boosting rounds\n",
    "    'subsample': 0.8,                 # Subsample ratio of the training instance\n",
    "    'colsample_bytree': 0.8,          # Subsample ratio of columns when constructing each tree\n",
    "    'eval_metric': 'rmse'             # Evaluation metric for validation\n",
    "}\n",
    "\n",
    "# Set up the evaluation set\n",
    "evals = [(dtrain, 'train'), (dval, 'eval')]\n"
   ]
  },
  {
   "cell_type": "code",
   "execution_count": 17,
   "id": "e3cb9d6c",
   "metadata": {
    "execution": {
     "iopub.execute_input": "2024-08-25T14:38:22.651904Z",
     "iopub.status.busy": "2024-08-25T14:38:22.651458Z",
     "iopub.status.idle": "2024-08-25T14:38:24.332478Z",
     "shell.execute_reply": "2024-08-25T14:38:24.331531Z"
    },
    "papermill": {
     "duration": 1.692859,
     "end_time": "2024-08-25T14:38:24.334874",
     "exception": false,
     "start_time": "2024-08-25T14:38:22.642015",
     "status": "completed"
    },
    "tags": []
   },
   "outputs": [
    {
     "name": "stdout",
     "output_type": "stream",
     "text": [
      "[0]\ttrain-rmse:71229.80461\teval-rmse:81384.44930\n",
      "[10]\ttrain-rmse:34026.33375\teval-rmse:44332.07387\n",
      "[20]\ttrain-rmse:19295.60330\teval-rmse:31515.10967\n"
     ]
    },
    {
     "name": "stderr",
     "output_type": "stream",
     "text": [
      "/opt/conda/lib/python3.10/site-packages/xgboost/core.py:160: UserWarning: [14:38:22] WARNING: /workspace/src/learner.cc:742: \n",
      "Parameters: { \"n_estimators\" } are not used.\n",
      "\n",
      "  warnings.warn(smsg, UserWarning)\n"
     ]
    },
    {
     "name": "stdout",
     "output_type": "stream",
     "text": [
      "[30]\ttrain-rmse:13257.95344\teval-rmse:26835.38257\n",
      "[40]\ttrain-rmse:10709.30400\teval-rmse:25059.28871\n",
      "[50]\ttrain-rmse:9424.32948\teval-rmse:24412.99846\n",
      "[60]\ttrain-rmse:8565.68397\teval-rmse:24271.28220\n",
      "[70]\ttrain-rmse:7781.27204\teval-rmse:24008.09410\n",
      "[80]\ttrain-rmse:7092.21255\teval-rmse:23884.49740\n",
      "[90]\ttrain-rmse:6517.23968\teval-rmse:23749.09939\n",
      "[100]\ttrain-rmse:5912.36094\teval-rmse:23713.95521\n",
      "[110]\ttrain-rmse:5466.03883\teval-rmse:23642.43630\n",
      "[120]\ttrain-rmse:4992.17855\teval-rmse:23614.15993\n",
      "[130]\ttrain-rmse:4511.95218\teval-rmse:23641.63125\n",
      "[140]\ttrain-rmse:4170.84970\teval-rmse:23655.93376\n",
      "[150]\ttrain-rmse:3884.97989\teval-rmse:23651.41922\n",
      "[160]\ttrain-rmse:3539.56808\teval-rmse:23619.96133\n",
      "[170]\ttrain-rmse:3186.66039\teval-rmse:23610.42371\n",
      "[180]\ttrain-rmse:2933.50012\teval-rmse:23615.19748\n",
      "[190]\ttrain-rmse:2657.79306\teval-rmse:23603.78163\n",
      "[200]\ttrain-rmse:2446.47858\teval-rmse:23589.19577\n",
      "[210]\ttrain-rmse:2253.37003\teval-rmse:23568.22952\n",
      "[220]\ttrain-rmse:2064.61173\teval-rmse:23583.22155\n",
      "[230]\ttrain-rmse:1910.49386\teval-rmse:23568.74574\n",
      "[240]\ttrain-rmse:1746.57504\teval-rmse:23592.30459\n",
      "[250]\ttrain-rmse:1602.52803\teval-rmse:23591.53664\n",
      "[257]\ttrain-rmse:1516.75384\teval-rmse:23592.33973\n"
     ]
    }
   ],
   "source": [
    "# Train the model\n",
    "model = xgb.train(params, dtrain, num_boost_round=1000, evals=evals, early_stopping_rounds=50, verbose_eval=10)\n"
   ]
  },
  {
   "cell_type": "markdown",
   "id": "acc7e440",
   "metadata": {
    "papermill": {
     "duration": 0.010052,
     "end_time": "2024-08-25T14:38:24.355245",
     "exception": false,
     "start_time": "2024-08-25T14:38:24.345193",
     "status": "completed"
    },
    "tags": []
   },
   "source": [
    "model is starting overfitting. checking crossvalidation"
   ]
  },
  {
   "cell_type": "code",
   "execution_count": 18,
   "id": "ae9a50b1",
   "metadata": {
    "execution": {
     "iopub.execute_input": "2024-08-25T14:38:24.377711Z",
     "iopub.status.busy": "2024-08-25T14:38:24.376878Z",
     "iopub.status.idle": "2024-08-25T14:38:31.083299Z",
     "shell.execute_reply": "2024-08-25T14:38:31.081975Z"
    },
    "papermill": {
     "duration": 6.720431,
     "end_time": "2024-08-25T14:38:31.085842",
     "exception": false,
     "start_time": "2024-08-25T14:38:24.365411",
     "status": "completed"
    },
    "tags": []
   },
   "outputs": [
    {
     "name": "stdout",
     "output_type": "stream",
     "text": [
      "[0]\ttrain-rmse:73086.10501+1335.30267\ttest-rmse:73677.28542+5373.13654\n",
      "[10]\ttrain-rmse:34081.45858+567.25903\ttest-rmse:40634.46092+3355.19213\n",
      "[20]\ttrain-rmse:18959.61557+326.26080\ttest-rmse:31769.26127+4345.95418\n",
      "[30]\ttrain-rmse:12871.68930+246.79306\ttest-rmse:29597.97216+5980.71841\n",
      "[40]\ttrain-rmse:10197.73783+240.93550\ttest-rmse:28745.01497+6858.54906\n",
      "[50]\ttrain-rmse:8852.60161+250.90801\ttest-rmse:28539.23942+7346.90084\n",
      "[60]\ttrain-rmse:7961.59175+198.28700\ttest-rmse:28437.64935+7540.60635\n",
      "[70]\ttrain-rmse:7332.73359+179.73021\ttest-rmse:28320.49268+7610.20831\n",
      "[80]\ttrain-rmse:6614.41026+182.55521\ttest-rmse:28278.29636+7647.64142\n",
      "[90]\ttrain-rmse:6043.98991+185.89772\ttest-rmse:28260.27707+7666.45442\n",
      "[100]\ttrain-rmse:5487.64262+152.68442\ttest-rmse:28237.47630+7693.45940\n",
      "[110]\ttrain-rmse:4980.76940+112.44662\ttest-rmse:28256.34278+7697.27900\n",
      "[120]\ttrain-rmse:4529.92484+115.34464\ttest-rmse:28252.73039+7700.64654\n",
      "[130]\ttrain-rmse:4134.93779+91.92738\ttest-rmse:28231.94192+7684.94097\n",
      "[140]\ttrain-rmse:3779.29051+98.13469\ttest-rmse:28215.95940+7659.16901\n",
      "[150]\ttrain-rmse:3435.80795+91.64450\ttest-rmse:28191.14887+7648.19883\n",
      "[160]\ttrain-rmse:3150.24445+68.56402\ttest-rmse:28182.61442+7638.53657\n",
      "[170]\ttrain-rmse:2925.43079+56.43116\ttest-rmse:28182.63563+7638.00491\n",
      "[180]\ttrain-rmse:2670.03541+55.87955\ttest-rmse:28189.86191+7627.65320\n",
      "[190]\ttrain-rmse:2430.26871+56.46900\ttest-rmse:28202.29330+7627.41755\n",
      "[200]\ttrain-rmse:2214.25291+47.63346\ttest-rmse:28201.94526+7618.68547\n",
      "[207]\ttrain-rmse:2087.05687+42.89049\ttest-rmse:28204.08549+7623.84966\n",
      "     train-rmse-mean  train-rmse-std  test-rmse-mean  test-rmse-std\n",
      "0       73086.105006     1335.302671    73677.285422    5373.136538\n",
      "1       67193.061885     1193.971513    68198.626536    5240.840641\n",
      "2       62019.347402     1094.075569    63527.370548    4968.101079\n",
      "3       57178.745668     1031.514501    59330.870385    4614.075944\n",
      "4       52856.707284      877.233298    55587.546886    4432.989065\n",
      "..               ...             ...             ...            ...\n",
      "154      3318.571251       78.648896    28184.215354    7644.227717\n",
      "155      3292.387558       74.626578    28183.814990    7643.780994\n",
      "156      3266.372950       71.659911    28183.310101    7640.084502\n",
      "157      3239.161009       74.424908    28179.187408    7639.382270\n",
      "158      3207.611078       77.452136    28172.772189    7638.914936\n",
      "\n",
      "[159 rows x 4 columns]\n",
      "Best RMSE: 28172.772188823623\n"
     ]
    }
   ],
   "source": [
    "from sklearn.model_selection import KFold\n",
    "import xgboost as xgb\n",
    "\n",
    "# Prepare features and target\n",
    "X = processed_train.drop(columns=['SalePrice'])\n",
    "y = processed_train['SalePrice']\n",
    "\n",
    "# Convert data into DMatrix format (optimized for XGBoost)\n",
    "dtrain = xgb.DMatrix(X, label=y)\n",
    "\n",
    "# Define the parameters for XGBoost\n",
    "params = {\n",
    "    'objective': 'reg:squarederror',  # Regression task\n",
    "    'max_depth': 6,                   # Maximum depth of a tree\n",
    "    'learning_rate': 0.1,             # Step size shrinkage\n",
    "    'subsample': 0.8,                 # Subsample ratio of the training instance\n",
    "    'colsample_bytree': 0.8,          # Subsample ratio of columns when constructing each tree\n",
    "    'eval_metric': 'rmse'             # Evaluation metric for validation\n",
    "}\n",
    "\n",
    "# Set up cross-validation\n",
    "kf = KFold(n_splits=5, shuffle=True, random_state=42)\n",
    "\n",
    "# Perform cross-validation\n",
    "cv_results = xgb.cv(\n",
    "    params=params,\n",
    "    dtrain=dtrain,\n",
    "    num_boost_round=1000,\n",
    "    folds=kf,\n",
    "    early_stopping_rounds=50,\n",
    "    metrics=\"rmse\",\n",
    "    as_pandas=True,\n",
    "    seed=42,\n",
    "    verbose_eval=10\n",
    ")\n",
    "\n",
    "# Print the results\n",
    "print(cv_results)\n",
    "print(f\"Best RMSE: {cv_results['test-rmse-mean'].min()}\")\n"
   ]
  },
  {
   "cell_type": "markdown",
   "id": "fb8d3a70",
   "metadata": {
    "papermill": {
     "duration": 0.011157,
     "end_time": "2024-08-25T14:38:31.108626",
     "exception": false,
     "start_time": "2024-08-25T14:38:31.097469",
     "status": "completed"
    },
    "tags": []
   },
   "source": [
    "# hyperparameter tuning"
   ]
  },
  {
   "cell_type": "code",
   "execution_count": 19,
   "id": "1c86c594",
   "metadata": {
    "execution": {
     "iopub.execute_input": "2024-08-25T14:38:31.134747Z",
     "iopub.status.busy": "2024-08-25T14:38:31.133842Z",
     "iopub.status.idle": "2024-08-25T14:38:42.643023Z",
     "shell.execute_reply": "2024-08-25T14:38:42.641745Z"
    },
    "papermill": {
     "duration": 11.52463,
     "end_time": "2024-08-25T14:38:42.645571",
     "exception": false,
     "start_time": "2024-08-25T14:38:31.120941",
     "status": "completed"
    },
    "tags": []
   },
   "outputs": [
    {
     "name": "stdout",
     "output_type": "stream",
     "text": [
      "Cross-validated RMSE: 27246.94588480625\n"
     ]
    }
   ],
   "source": [
    "from xgboost import XGBRegressor\n",
    "from sklearn.model_selection import cross_val_score\n",
    "\n",
    "# Initialize the XGBoost model with reasonable defaults\n",
    "model = XGBRegressor(\n",
    "    objective='reg:squarederror',\n",
    "    max_depth=6,\n",
    "    learning_rate=0.1,\n",
    "    n_estimators=1000,\n",
    "    subsample=0.8,\n",
    "    colsample_bytree=0.8,\n",
    "    random_state=42\n",
    ")\n",
    "\n",
    "# Use cross-validation with early stopping\n",
    "cv_scores = cross_val_score(model, X, y, scoring='neg_mean_squared_error', cv=3)\n",
    "\n",
    "# Calculate RMSE from negative MSE\n",
    "rmse_scores = (-cv_scores)**0.5\n",
    "\n",
    "print(\"Cross-validated RMSE:\", rmse_scores.mean())\n"
   ]
  },
  {
   "cell_type": "code",
   "execution_count": 20,
   "id": "34fc475b",
   "metadata": {
    "execution": {
     "iopub.execute_input": "2024-08-25T14:38:42.670652Z",
     "iopub.status.busy": "2024-08-25T14:38:42.670265Z",
     "iopub.status.idle": "2024-08-25T14:38:42.676551Z",
     "shell.execute_reply": "2024-08-25T14:38:42.675288Z"
    },
    "papermill": {
     "duration": 0.021488,
     "end_time": "2024-08-25T14:38:42.678813",
     "exception": false,
     "start_time": "2024-08-25T14:38:42.657325",
     "status": "completed"
    },
    "tags": []
   },
   "outputs": [
    {
     "name": "stdout",
     "output_type": "stream",
     "text": [
      "Mean Sale Price: 180921.19589041095\n"
     ]
    }
   ],
   "source": [
    "# Calculate the mean sale price from the training data\n",
    "mean_sale_price = y.mean()\n",
    "print(\"Mean Sale Price:\", mean_sale_price)\n"
   ]
  },
  {
   "cell_type": "code",
   "execution_count": 21,
   "id": "12ba4a16",
   "metadata": {
    "execution": {
     "iopub.execute_input": "2024-08-25T14:38:42.704102Z",
     "iopub.status.busy": "2024-08-25T14:38:42.703255Z",
     "iopub.status.idle": "2024-08-25T14:38:42.708975Z",
     "shell.execute_reply": "2024-08-25T14:38:42.707862Z"
    },
    "papermill": {
     "duration": 0.021319,
     "end_time": "2024-08-25T14:38:42.711833",
     "exception": false,
     "start_time": "2024-08-25T14:38:42.690514",
     "status": "completed"
    },
    "tags": []
   },
   "outputs": [
    {
     "name": "stdout",
     "output_type": "stream",
     "text": [
      "RMSE as a percentage of the mean sale price: 15.23%\n"
     ]
    }
   ],
   "source": [
    "# Calculate RMSE as a percentage of the mean sale price\n",
    "rmse_percentage = (27554.317281169406 / mean_sale_price) * 100\n",
    "print(f\"RMSE as a percentage of the mean sale price: {rmse_percentage:.2f}%\")\n"
   ]
  },
  {
   "cell_type": "code",
   "execution_count": 22,
   "id": "6addac08",
   "metadata": {
    "execution": {
     "iopub.execute_input": "2024-08-25T14:38:42.737396Z",
     "iopub.status.busy": "2024-08-25T14:38:42.736994Z",
     "iopub.status.idle": "2024-08-25T14:38:47.283987Z",
     "shell.execute_reply": "2024-08-25T14:38:47.282634Z"
    },
    "papermill": {
     "duration": 4.56281,
     "end_time": "2024-08-25T14:38:47.286594",
     "exception": false,
     "start_time": "2024-08-25T14:38:42.723784",
     "status": "completed"
    },
    "tags": []
   },
   "outputs": [
    {
     "data": {
      "text/html": [
       "<style>#sk-container-id-1 {color: black;background-color: white;}#sk-container-id-1 pre{padding: 0;}#sk-container-id-1 div.sk-toggleable {background-color: white;}#sk-container-id-1 label.sk-toggleable__label {cursor: pointer;display: block;width: 100%;margin-bottom: 0;padding: 0.3em;box-sizing: border-box;text-align: center;}#sk-container-id-1 label.sk-toggleable__label-arrow:before {content: \"▸\";float: left;margin-right: 0.25em;color: #696969;}#sk-container-id-1 label.sk-toggleable__label-arrow:hover:before {color: black;}#sk-container-id-1 div.sk-estimator:hover label.sk-toggleable__label-arrow:before {color: black;}#sk-container-id-1 div.sk-toggleable__content {max-height: 0;max-width: 0;overflow: hidden;text-align: left;background-color: #f0f8ff;}#sk-container-id-1 div.sk-toggleable__content pre {margin: 0.2em;color: black;border-radius: 0.25em;background-color: #f0f8ff;}#sk-container-id-1 input.sk-toggleable__control:checked~div.sk-toggleable__content {max-height: 200px;max-width: 100%;overflow: auto;}#sk-container-id-1 input.sk-toggleable__control:checked~label.sk-toggleable__label-arrow:before {content: \"▾\";}#sk-container-id-1 div.sk-estimator input.sk-toggleable__control:checked~label.sk-toggleable__label {background-color: #d4ebff;}#sk-container-id-1 div.sk-label input.sk-toggleable__control:checked~label.sk-toggleable__label {background-color: #d4ebff;}#sk-container-id-1 input.sk-hidden--visually {border: 0;clip: rect(1px 1px 1px 1px);clip: rect(1px, 1px, 1px, 1px);height: 1px;margin: -1px;overflow: hidden;padding: 0;position: absolute;width: 1px;}#sk-container-id-1 div.sk-estimator {font-family: monospace;background-color: #f0f8ff;border: 1px dotted black;border-radius: 0.25em;box-sizing: border-box;margin-bottom: 0.5em;}#sk-container-id-1 div.sk-estimator:hover {background-color: #d4ebff;}#sk-container-id-1 div.sk-parallel-item::after {content: \"\";width: 100%;border-bottom: 1px solid gray;flex-grow: 1;}#sk-container-id-1 div.sk-label:hover label.sk-toggleable__label {background-color: #d4ebff;}#sk-container-id-1 div.sk-serial::before {content: \"\";position: absolute;border-left: 1px solid gray;box-sizing: border-box;top: 0;bottom: 0;left: 50%;z-index: 0;}#sk-container-id-1 div.sk-serial {display: flex;flex-direction: column;align-items: center;background-color: white;padding-right: 0.2em;padding-left: 0.2em;position: relative;}#sk-container-id-1 div.sk-item {position: relative;z-index: 1;}#sk-container-id-1 div.sk-parallel {display: flex;align-items: stretch;justify-content: center;background-color: white;position: relative;}#sk-container-id-1 div.sk-item::before, #sk-container-id-1 div.sk-parallel-item::before {content: \"\";position: absolute;border-left: 1px solid gray;box-sizing: border-box;top: 0;bottom: 0;left: 50%;z-index: -1;}#sk-container-id-1 div.sk-parallel-item {display: flex;flex-direction: column;z-index: 1;position: relative;background-color: white;}#sk-container-id-1 div.sk-parallel-item:first-child::after {align-self: flex-end;width: 50%;}#sk-container-id-1 div.sk-parallel-item:last-child::after {align-self: flex-start;width: 50%;}#sk-container-id-1 div.sk-parallel-item:only-child::after {width: 0;}#sk-container-id-1 div.sk-dashed-wrapped {border: 1px dashed gray;margin: 0 0.4em 0.5em 0.4em;box-sizing: border-box;padding-bottom: 0.4em;background-color: white;}#sk-container-id-1 div.sk-label label {font-family: monospace;font-weight: bold;display: inline-block;line-height: 1.2em;}#sk-container-id-1 div.sk-label-container {text-align: center;}#sk-container-id-1 div.sk-container {/* jupyter's `normalize.less` sets `[hidden] { display: none; }` but bootstrap.min.css set `[hidden] { display: none !important; }` so we also need the `!important` here to be able to override the default hidden behavior on the sphinx rendered scikit-learn.org. See: https://github.com/scikit-learn/scikit-learn/issues/21755 */display: inline-block !important;position: relative;}#sk-container-id-1 div.sk-text-repr-fallback {display: none;}</style><div id=\"sk-container-id-1\" class=\"sk-top-container\"><div class=\"sk-text-repr-fallback\"><pre>XGBRegressor(base_score=None, booster=None, callbacks=None,\n",
       "             colsample_bylevel=None, colsample_bynode=None,\n",
       "             colsample_bytree=0.8, device=None, early_stopping_rounds=None,\n",
       "             enable_categorical=False, eval_metric=None, feature_types=None,\n",
       "             gamma=None, grow_policy=None, importance_type=None,\n",
       "             interaction_constraints=None, learning_rate=0.1, max_bin=None,\n",
       "             max_cat_threshold=None, max_cat_to_onehot=None,\n",
       "             max_delta_step=None, max_depth=6, max_leaves=None,\n",
       "             min_child_weight=None, missing=nan, monotone_constraints=None,\n",
       "             multi_strategy=None, n_estimators=1000, n_jobs=None,\n",
       "             num_parallel_tree=None, random_state=42, ...)</pre><b>In a Jupyter environment, please rerun this cell to show the HTML representation or trust the notebook. <br />On GitHub, the HTML representation is unable to render, please try loading this page with nbviewer.org.</b></div><div class=\"sk-container\" hidden><div class=\"sk-item\"><div class=\"sk-estimator sk-toggleable\"><input class=\"sk-toggleable__control sk-hidden--visually\" id=\"sk-estimator-id-1\" type=\"checkbox\" checked><label for=\"sk-estimator-id-1\" class=\"sk-toggleable__label sk-toggleable__label-arrow\">XGBRegressor</label><div class=\"sk-toggleable__content\"><pre>XGBRegressor(base_score=None, booster=None, callbacks=None,\n",
       "             colsample_bylevel=None, colsample_bynode=None,\n",
       "             colsample_bytree=0.8, device=None, early_stopping_rounds=None,\n",
       "             enable_categorical=False, eval_metric=None, feature_types=None,\n",
       "             gamma=None, grow_policy=None, importance_type=None,\n",
       "             interaction_constraints=None, learning_rate=0.1, max_bin=None,\n",
       "             max_cat_threshold=None, max_cat_to_onehot=None,\n",
       "             max_delta_step=None, max_depth=6, max_leaves=None,\n",
       "             min_child_weight=None, missing=nan, monotone_constraints=None,\n",
       "             multi_strategy=None, n_estimators=1000, n_jobs=None,\n",
       "             num_parallel_tree=None, random_state=42, ...)</pre></div></div></div></div></div>"
      ],
      "text/plain": [
       "XGBRegressor(base_score=None, booster=None, callbacks=None,\n",
       "             colsample_bylevel=None, colsample_bynode=None,\n",
       "             colsample_bytree=0.8, device=None, early_stopping_rounds=None,\n",
       "             enable_categorical=False, eval_metric=None, feature_types=None,\n",
       "             gamma=None, grow_policy=None, importance_type=None,\n",
       "             interaction_constraints=None, learning_rate=0.1, max_bin=None,\n",
       "             max_cat_threshold=None, max_cat_to_onehot=None,\n",
       "             max_delta_step=None, max_depth=6, max_leaves=None,\n",
       "             min_child_weight=None, missing=nan, monotone_constraints=None,\n",
       "             multi_strategy=None, n_estimators=1000, n_jobs=None,\n",
       "             num_parallel_tree=None, random_state=42, ...)"
      ]
     },
     "execution_count": 22,
     "metadata": {},
     "output_type": "execute_result"
    }
   ],
   "source": [
    "# Initialize the XGBoost model with the chosen parameters\n",
    "final_model = xgb.XGBRegressor(\n",
    "    objective='reg:squarederror',\n",
    "    max_depth=6,\n",
    "    learning_rate=0.1,\n",
    "    n_estimators=1000,\n",
    "    subsample=0.8,\n",
    "    colsample_bytree=0.8,\n",
    "    random_state=42\n",
    ")\n",
    "\n",
    "# Train the model on the entire training set\n",
    "final_model.fit(X, y)\n"
   ]
  },
  {
   "cell_type": "code",
   "execution_count": 23,
   "id": "ca33766f",
   "metadata": {
    "execution": {
     "iopub.execute_input": "2024-08-25T14:38:47.313986Z",
     "iopub.status.busy": "2024-08-25T14:38:47.313548Z",
     "iopub.status.idle": "2024-08-25T14:38:47.380356Z",
     "shell.execute_reply": "2024-08-25T14:38:47.379249Z"
    },
    "papermill": {
     "duration": 0.083579,
     "end_time": "2024-08-25T14:38:47.383078",
     "exception": false,
     "start_time": "2024-08-25T14:38:47.299499",
     "status": "completed"
    },
    "tags": []
   },
   "outputs": [],
   "source": [
    "# Predict on the test set\n",
    "final_predictions = final_model.predict(processed_test)\n"
   ]
  },
  {
   "cell_type": "code",
   "execution_count": 24,
   "id": "480ff5e2",
   "metadata": {
    "execution": {
     "iopub.execute_input": "2024-08-25T14:38:47.409508Z",
     "iopub.status.busy": "2024-08-25T14:38:47.409104Z",
     "iopub.status.idle": "2024-08-25T14:38:47.422889Z",
     "shell.execute_reply": "2024-08-25T14:38:47.421493Z"
    },
    "papermill": {
     "duration": 0.030178,
     "end_time": "2024-08-25T14:38:47.425895",
     "exception": false,
     "start_time": "2024-08-25T14:38:47.395717",
     "status": "completed"
    },
    "tags": []
   },
   "outputs": [
    {
     "name": "stdout",
     "output_type": "stream",
     "text": [
      "Submission file created!\n"
     ]
    }
   ],
   "source": [
    "# Prepare the submission DataFrame\n",
    "submission = pd.DataFrame({\n",
    "    'Id': test['Id'],  # Assuming 'Id' is in your test set\n",
    "    'SalePrice': final_predictions\n",
    "})\n",
    "\n",
    "# Save the submission file\n",
    "submission.to_csv('submission.csv', index=False)\n",
    "print(\"Submission file created!\")\n"
   ]
  }
 ],
 "metadata": {
  "kaggle": {
   "accelerator": "none",
   "dataSources": [
    {
     "databundleVersionId": 868283,
     "sourceId": 5407,
     "sourceType": "competition"
    }
   ],
   "dockerImageVersionId": 30761,
   "isGpuEnabled": false,
   "isInternetEnabled": false,
   "language": "python",
   "sourceType": "notebook"
  },
  "kernelspec": {
   "display_name": "Python 3",
   "language": "python",
   "name": "python3"
  },
  "language_info": {
   "codemirror_mode": {
    "name": "ipython",
    "version": 3
   },
   "file_extension": ".py",
   "mimetype": "text/x-python",
   "name": "python",
   "nbconvert_exporter": "python",
   "pygments_lexer": "ipython3",
   "version": "3.10.14"
  },
  "papermill": {
   "default_parameters": {},
   "duration": 31.723663,
   "end_time": "2024-08-25T14:38:48.160404",
   "environment_variables": {},
   "exception": null,
   "input_path": "__notebook__.ipynb",
   "output_path": "__notebook__.ipynb",
   "parameters": {},
   "start_time": "2024-08-25T14:38:16.436741",
   "version": "2.6.0"
  }
 },
 "nbformat": 4,
 "nbformat_minor": 5
}
